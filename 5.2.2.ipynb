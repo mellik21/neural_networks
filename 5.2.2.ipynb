{
 "cells": [
  {
   "cell_type": "markdown",
   "metadata": {},
   "source": [
    "\\begin{equation*}\n",
    "W_(out) = \\frac{(W−K+2⋅P)}{S} +1\n",
    "\\end{equation*}\n",
    "\n",
    "**W_out** -- ширина выходного изображения, \n",
    "**K** -- размер свёртки, \n",
    "**P** -- размер паддинга, \n",
    "**S** -- размер страйда. \\\n",
    "input size $(N,C in,H,W) $ \\\n",
    "output $N,C out,H out,W out$\n",
    "\t\n",
    " "
   ]
  },
  {
   "cell_type": "markdown",
   "metadata": {},
   "source": [
    "N - число изображений (input_matrix_shape[0])\\\n",
    "C_{in}- количество входных каналов (для RGB С_in = 3)\\\n",
    "C_{out}- количество выходных каналов или другими словами количество фильтров (out_channels) \\\n",
    "H_{in} и W_{in} - соответственно высота и ширина входной картинки (input_matrix_shape[2] и (input_matrix_shape[3])\\\n",
    "H_{out} и W_{out} - соответственно высота и ширина выходного сверточного слоя  \\\n",
    "H_{out} = W_{out}\\\n",
    "\n",
    "K - размер ядра (kernel_size)\n",
    "P - padding\n",
    "S - stride"
   ]
  },
  {
   "cell_type": "code",
   "execution_count": 18,
   "metadata": {},
   "outputs": [],
   "source": [
    "import numpy as np\n",
    "\n",
    "def calc_out_shape(input_matrix_shape, out_channels, kernel_size, stride, padding):\n",
    "    n = input_matrix_shape[0]\n",
    "    cin = 3\n",
    "    hin = input_matrix_shape[2]\n",
    "    win = input_matrix_shape[3]\n",
    "    wout = ((win-kernel_size+2*padding)//stride)+1\n",
    "    hout = ((hin-kernel_size+2*padding)//stride)+1\n",
    "    \n",
    "    out_shape = (n,out_channels,hout,wout)\n",
    "    return out_shape"
   ]
  },
  {
   "cell_type": "code",
   "execution_count": 19,
   "metadata": {},
   "outputs": [
    {
     "name": "stdout",
     "output_type": "stream",
     "text": [
      "(2, 10, 8, 8)\n"
     ]
    }
   ],
   "source": [
    "print(calc_out_shape(input_matrix_shape=[2, 3, 10, 10],\n",
    "                   out_channels=10,\n",
    "                   kernel_size=3,\n",
    "                   stride=1,\n",
    "                   padding=0))"
   ]
  },
  {
   "cell_type": "code",
   "execution_count": 20,
   "metadata": {},
   "outputs": [
    {
     "name": "stdout",
     "output_type": "stream",
     "text": [
      "True\n"
     ]
    }
   ],
   "source": [
    "print(np.array_equal(\n",
    "    calc_out_shape(input_matrix_shape=[2, 3, 10, 10],\n",
    "                   out_channels=10,\n",
    "                   kernel_size=3,\n",
    "                   stride=1,\n",
    "                   padding=0),\n",
    "    [2, 10, 8, 8]))"
   ]
  },
  {
   "cell_type": "code",
   "execution_count": null,
   "metadata": {},
   "outputs": [],
   "source": []
  }
 ],
 "metadata": {
  "kernelspec": {
   "display_name": "Python 3",
   "language": "python",
   "name": "python3"
  },
  "language_info": {
   "codemirror_mode": {
    "name": "ipython",
    "version": 3
   },
   "file_extension": ".py",
   "mimetype": "text/x-python",
   "name": "python",
   "nbconvert_exporter": "python",
   "pygments_lexer": "ipython3",
   "version": "3.8.3"
  }
 },
 "nbformat": 4,
 "nbformat_minor": 4
}
